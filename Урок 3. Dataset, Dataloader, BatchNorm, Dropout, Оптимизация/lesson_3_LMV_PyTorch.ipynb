{
  "cells": [
    {
      "cell_type": "markdown",
      "metadata": {
        "id": "8aP3VqmLJ8jK"
      },
      "source": [
        "# Dataset, Dataloader, BatchNorm, Dropout, Оптимизация\n",
        "\n",
        "Сегодня у нас довольно объемная программа, она призвана закончить большую часть про базовую функциональность Pytorch, дальше мы двинемся к сверточным сетям и будем решать более прикладные задачи"
      ]
    },
    {
      "cell_type": "markdown",
      "metadata": {
        "id": "Fs3wLJ9eJ8jX"
      },
      "source": [
        "Для удобства в PyTorch предоставляется ряд утилит для загрузки датасетов, их предварительной обработки и взаимодействия с ними. Эти вспомогательные классы находятся в модуле torch.utils.data module. Здесь следует обратить внимание на:\n",
        "\n",
        "- Dataset,\n",
        "- DataLoader, отвечающий за загрузку датасета.\n",
        "\n",
        "Для создания новых датасетов наследуется класс torch.utils.data.Dataset и переопределяется метод __len__, так, чтобы он возвращал количество образцов в датасете, а также метод __getitem__ для доступа к единичному значению по конкретному индексу. Например, так выглядит простой датасет, в котором инкапсулирован диапазон целых чисел:"
      ]
    },
    {
      "cell_type": "markdown",
      "source": [
        "## Dataset"
      ],
      "metadata": {
        "id": "nfi6haSYP6FC"
      }
    },
    {
      "cell_type": "code",
      "execution_count": 25,
      "metadata": {
        "id": "kQofXN2GJ8je"
      },
      "outputs": [],
      "source": [
        "import math\n",
        "import torch\n",
        "import numpy as np\n",
        "\n",
        "class RangeDataset(torch.utils.data.Dataset):\n",
        "    def __init__(self, start, end, step=1):\n",
        "        self.start = start\n",
        "        self.end = end\n",
        "        self.step = step\n",
        "\n",
        "    def __len__(self):\n",
        "        return math.ceil((self.end - self.start) / self.step)\n",
        "\n",
        "    def __getitem__(self, index):\n",
        "        value = self.start + index * self.step\n",
        "        return np.array([value, value])"
      ]
    },
    {
      "cell_type": "markdown",
      "source": [
        "## Dataloader"
      ],
      "metadata": {
        "id": "I3sWdNW8P_GX"
      }
    },
    {
      "cell_type": "markdown",
      "metadata": {
        "id": "yNH4sm1OJ8jl"
      },
      "source": [
        "Объект DataLoader принимает датасет и ряд опций, конфигурирующих процедуру извлечения образца. Например, можно параллельно загружать образцы, задействовав множество процессов. Для этого конструктор DataLoader принимает аргумент num_workers. Обратите внимание: DataLoader всегда возвращает батчи, размер которых задается в параметре batch_size"
      ]
    },
    {
      "cell_type": "code",
      "execution_count": 26,
      "metadata": {
        "colab": {
          "base_uri": "https://localhost:8080/"
        },
        "id": "z96CBEaRJ8jo",
        "outputId": "d3e12180-34ac-49f8-a4a6-c54aa25f846e"
      },
      "outputs": [
        {
          "output_type": "stream",
          "name": "stdout",
          "text": [
            "14\n"
          ]
        },
        {
          "output_type": "execute_result",
          "data": {
            "text/plain": [
              "(array([0, 0]), array([5, 5]))"
            ]
          },
          "metadata": {},
          "execution_count": 26
        }
      ],
      "source": [
        "dataset = RangeDataset(0, 14)\n",
        "print(len(dataset))\n",
        "dataset[0], dataset[5]"
      ]
    },
    {
      "cell_type": "code",
      "source": [
        "data_loader = torch.utils.data.DataLoader(dataset, batch_size=4, shuffle=True,\n",
        "                                          num_workers=2, drop_last=True)\n",
        "len(data_loader)"
      ],
      "metadata": {
        "colab": {
          "base_uri": "https://localhost:8080/"
        },
        "id": "cMsZ2CrYLEyn",
        "outputId": "7b784d80-532c-43e8-9e6a-12a153e18e0b"
      },
      "execution_count": 27,
      "outputs": [
        {
          "output_type": "execute_result",
          "data": {
            "text/plain": [
              "3"
            ]
          },
          "metadata": {},
          "execution_count": 27
        }
      ]
    },
    {
      "cell_type": "code",
      "source": [
        "for i, batch in enumerate(data_loader):\n",
        "    print(i, batch)"
      ],
      "metadata": {
        "colab": {
          "base_uri": "https://localhost:8080/"
        },
        "id": "RlQNrrmVK_zr",
        "outputId": "c63759fb-e34f-4e50-8d87-06284225c333"
      },
      "execution_count": 28,
      "outputs": [
        {
          "output_type": "stream",
          "name": "stdout",
          "text": [
            "0 tensor([[ 4,  4],\n",
            "        [10, 10],\n",
            "        [11, 11],\n",
            "        [ 0,  0]])\n",
            "1 tensor([[5, 5],\n",
            "        [3, 3],\n",
            "        [2, 2],\n",
            "        [7, 7]])\n",
            "2 tensor([[ 9,  9],\n",
            "        [12, 12],\n",
            "        [ 6,  6],\n",
            "        [ 1,  1]])\n"
          ]
        }
      ]
    },
    {
      "cell_type": "markdown",
      "metadata": {
        "id": "76fmIT0RJ8js"
      },
      "source": [
        "При этом нам часто нужно делать аугментацию данных или как-то их предобрабатывать. Это можно делать внутри датасета, но частично это можно переложить и внутрь DataLoader (особенно в части обработки изображений)"
      ]
    },
    {
      "cell_type": "code",
      "execution_count": 6,
      "metadata": {
        "id": "vtgdGTwpJ8jw"
      },
      "outputs": [],
      "source": [
        "import numpy as np\n",
        "\n",
        "from PIL import Image\n",
        "from torchvision import transforms, datasets"
      ]
    },
    {
      "cell_type": "code",
      "execution_count": 7,
      "metadata": {
        "colab": {
          "base_uri": "https://localhost:8080/"
        },
        "id": "L731fVgUJ8jy",
        "outputId": "bcd6bcf9-2dd5-45d9-a26d-b221a6cc34b9"
      },
      "outputs": [
        {
          "output_type": "stream",
          "name": "stdout",
          "text": [
            "Downloading https://www.cs.toronto.edu/~kriz/cifar-10-python.tar.gz to data/cifar-10-python.tar.gz\n"
          ]
        },
        {
          "output_type": "stream",
          "name": "stderr",
          "text": [
            "100%|██████████| 170498071/170498071 [00:03<00:00, 43442804.76it/s]\n"
          ]
        },
        {
          "output_type": "stream",
          "name": "stdout",
          "text": [
            "Extracting data/cifar-10-python.tar.gz to data/\n"
          ]
        }
      ],
      "source": [
        "train_dataset = datasets.CIFAR10(root='data/', train=True, download=True)\n",
        "image, label = train_dataset[0]"
      ]
    },
    {
      "cell_type": "code",
      "source": [
        "import matplotlib.pyplot as plt\n",
        "\n",
        "plt.imshow(image);"
      ],
      "metadata": {
        "colab": {
          "base_uri": "https://localhost:8080/",
          "height": 430
        },
        "id": "1dqE5zt4L2IE",
        "outputId": "db1e9afd-e26d-41b8-b9e7-9e7e5d827c34"
      },
      "execution_count": 8,
      "outputs": [
        {
          "output_type": "display_data",
          "data": {
            "text/plain": [
              "<Figure size 640x480 with 1 Axes>"
            ],
            "image/png": "[encoded data removed]"
          },
          "metadata": {}
        }
      ]
    },
    {
      "cell_type": "code",
      "execution_count": 9,
      "metadata": {
        "id": "BcQyxHD6J8j3"
      },
      "outputs": [],
      "source": [
        "img_size = 32\n",
        "\n",
        "class MyOwnCifar(torch.utils.data.Dataset):\n",
        "\n",
        "    def __init__(self, init_dataset, transform=None):\n",
        "        self._base_dataset = init_dataset\n",
        "        self.transform = transform\n",
        "\n",
        "    def __len__(self):\n",
        "        return len(self._base_dataset)\n",
        "\n",
        "    def __getitem__(self, idx):\n",
        "        img, lbl = self._base_dataset[idx]\n",
        "\n",
        "        if self.transform is not None:\n",
        "            img = self.transform(img)\n",
        "\n",
        "        img = img.view(img_size * img_size * 3)\n",
        "        return img, lbl\n",
        "\n",
        "\n",
        "trans_actions = transforms.Compose([transforms.Resize(img_size + 2),\n",
        "                                    transforms.RandomCrop(img_size, padding=2),\n",
        "                                    transforms.ToTensor()])\n",
        "\n",
        "dataset = MyOwnCifar(train_dataset, trans_actions)\n",
        "train_loader = torch.utils.data.DataLoader(dataset,\n",
        "                          batch_size=128,\n",
        "                          shuffle=True,\n",
        "                          num_workers=2)"
      ]
    },
    {
      "cell_type": "code",
      "source": [
        "test_dataset = datasets.CIFAR10(root='./data', train=False,\n",
        "                                download=True,)\n",
        "test_dataset = MyOwnCifar(test_dataset,\n",
        "                          transforms.Compose([transforms.ToTensor(),\n",
        "                                              transforms.Resize(img_size)])\n",
        "                          )\n",
        "\n",
        "test_loader = torch.utils.data.DataLoader(test_dataset, batch_size=8,\n",
        "                                          shuffle=False)"
      ],
      "metadata": {
        "colab": {
          "base_uri": "https://localhost:8080/"
        },
        "id": "XOVzVX_uMPt7",
        "outputId": "7fe918e3-2407-4fa4-88e1-972e478fd496"
      },
      "execution_count": 10,
      "outputs": [
        {
          "output_type": "stream",
          "name": "stdout",
          "text": [
            "Files already downloaded and verified\n"
          ]
        }
      ]
    },
    {
      "cell_type": "code",
      "source": [
        "classes = ['plane', 'car', 'bird', 'cat','deer', 'dog',\n",
        "           'frog', 'horse', 'ship', 'truck']"
      ],
      "metadata": {
        "id": "JeORkXVaOQ3u"
      },
      "execution_count": 11,
      "outputs": []
    },
    {
      "cell_type": "code",
      "execution_count": 12,
      "metadata": {
        "colab": {
          "base_uri": "https://localhost:8080/",
          "height": 466
        },
        "id": "LNFF0N7VJ8j9",
        "outputId": "a00d698d-e2dc-4824-8b3a-47e2603f3df7"
      },
      "outputs": [
        {
          "output_type": "stream",
          "name": "stdout",
          "text": [
            "torch.Size([128, 3072])\n",
            "label is deer\n"
          ]
        },
        {
          "output_type": "display_data",
          "data": {
            "text/plain": [
              "<Figure size 640x480 with 1 Axes>"
            ],
            "image/png": "[encoded data removed]"
          },
          "metadata": {}
        }
      ],
      "source": [
        "for batch, label in train_loader:\n",
        "    print(batch.shape)\n",
        "    plt.imshow(batch[0].view(3, img_size, img_size).permute(1, 2, 0))\n",
        "    print('label is', classes[label[0]])\n",
        "    break"
      ]
    },
    {
      "cell_type": "code",
      "source": [
        "for batch, label in test_loader:\n",
        "    print(batch.shape)\n",
        "    plt.imshow(batch[0].view(3, img_size, img_size).permute(1, 2, 0))\n",
        "    print('label is', classes[label[0]])\n",
        "    break"
      ],
      "metadata": {
        "colab": {
          "base_uri": "https://localhost:8080/",
          "height": 521
        },
        "id": "O1zweAJqM7zm",
        "outputId": "ea8ae1f8-ed39-4dea-c8d2-cfdf514c079c"
      },
      "execution_count": 13,
      "outputs": [
        {
          "output_type": "stream",
          "name": "stderr",
          "text": [
            "/usr/local/lib/python3.10/dist-packages/torchvision/transforms/functional.py:1603: UserWarning: The default value of the antialias parameter of all the resizing transforms (Resize(), RandomResizedCrop(), etc.) will change from None to True in v0.17, in order to be consistent across the PIL and Tensor backends. To suppress this warning, directly pass antialias=True (recommended, future default), antialias=None (current default, which means False for Tensors and True for PIL), or antialias=False (only works on Tensors - PIL will still use antialiasing). This also applies if you are using the inference transforms from the models weights: update the call to weights.transforms(antialias=True).\n",
            "  warnings.warn(\n"
          ]
        },
        {
          "output_type": "stream",
          "name": "stdout",
          "text": [
            "torch.Size([8, 3072])\n",
            "label is cat\n"
          ]
        },
        {
          "output_type": "display_data",
          "data": {
            "text/plain": [
              "<Figure size 640x480 with 1 Axes>"
            ],
            "image/png": "[encoded data removed]"
          },
          "metadata": {}
        }
      ]
    },
    {
      "cell_type": "markdown",
      "metadata": {
        "id": "40cMLaFiJ8kA"
      },
      "source": [
        "## Dropout - исключение заданного числа нейронов\n",
        "\n",
        "\n",
        "Метод регуляризации искусственных нейронных сетей, предназначен для уменьшения переобучения сети за счет предотвращения сложных адаптаций отдельных нейронов на тренировочных данных во время обучения.\n",
        "\n",
        "Характеризует исключение определённого процента (например 50%) случайных нейронов на разных итерациях во время обучения нейронной сети. В результате  обучение происходит более общее, нет надежды на определенные нейроны. Такой приём значительно увеличивает скорость обучения, качество обучения на тренировочных данных, а также повышает качество предсказаний модели на новых тестовых данных.\n",
        "\n",
        "На моменте предсказания все нейроны включаются обратно, dropout не используется.\n",
        "\n",
        "<img src=\"https://drive.google.com/uc?export=view&id=1UP-yYkA4UEfZmdFUZG-3ccftXPQcfno1\">\n",
        "\n"
      ]
    },
    {
      "cell_type": "markdown",
      "source": [
        "## BatchNorm\n",
        "\n",
        "\n",
        "Batch Normalization (Пакетная нормализация) — метод, который позволяет повысить производительность и стабилизировать работу искусственных нейронных сетей. Суть данного метода заключается в том, что некоторым слоям нейронной сети на вход подаются данные, предварительно обработанные и имеющие нулевое мат. ожидание и единичную дисперсию.\n",
        "\n",
        "Batch norm дает следующие эффекты:\n",
        "\n",
        "- ускорение сходимости модели;\n",
        "- бОльшая независимость обучения каждого слоя нейронов;\n",
        "- в некоторой степени предотвращает эффект переобучения;\n",
        "- меньшая чувствительность к начальной инициализации весовых коэффициентов.\n",
        "\n",
        "\n",
        "<img src='https://drive.google.com/uc?export=view&id=1y0ye2bQTB2cwgP4cgxVQ50Fhi8FvIZeH'>\n",
        "\n",
        "Получается, что нейронам в одной сети приходится адаптироваться к разным картинкам на разных итерациях, потому что разные статистические показатели распределений приходят на вход, из-за чего снижается скорость сходимости, чтобы это было легче для сети, можно выполнять нормализацию батча.\n",
        "\n",
        "Получается, что нужно нормировать статистические показатели.\n",
        "<img src=\"https://drive.google.com/uc?export=view&id=1kd0XCd5FSPoVR1tlD3HfA2Nc5mwdWtj1\" width=400>\n",
        "\n",
        "\n",
        "<img src='https://drive.google.com/uc?export=view&id=11YY3T8a31W583tJHxz-Sq7Q7A3Z02a47'>\n",
        "\n",
        "\n",
        "<h2>$z^i_k = \\frac{v^i_k + \\mu_v}{\\sqrt{ \\sigma^2_v+ \\epsilon}}$</h2><br>\n",
        "$y_i^k = \\gamma z_i^k + \\beta$, где $\\gamma$ и $\\beta$ - это настраиваемые параметры, которые нужны для дополнительного масштабирования и смещения.\n",
        "\n",
        "<h2>${\\mu_v}$ - среднее по выборке </h2><br>\n",
        "\n",
        "<h2>${\\sqrt{\\sigma^2_v}}$ - стандартное отклонение по выборке</h2><br>\n",
        "\n",
        "<h2>${\\epsilon}$ - отработка деления на ноль </h2><br>\n",
        "\n",
        "\n",
        "\n"
      ],
      "metadata": {
        "id": "wF39tMklQH8u"
      }
    },
    {
      "cell_type": "code",
      "execution_count": 14,
      "metadata": {
        "id": "at8qRIrLJ8kD"
      },
      "outputs": [],
      "source": [
        "import torch.nn.functional as F\n",
        "import torch.nn as nn"
      ]
    },
    {
      "cell_type": "code",
      "execution_count": 15,
      "metadata": {
        "id": "03Grc9WDJ8kF"
      },
      "outputs": [],
      "source": [
        "class Perceptron(nn.Module):\n",
        "    def __init__(self, input_dim, output_dim, activation=\"relu\"):\n",
        "        super().__init__()\n",
        "        self.fc = nn.Linear(input_dim, output_dim)\n",
        "        self.activation = activation\n",
        "\n",
        "    def forward(self, x):\n",
        "        x = self.fc(x)\n",
        "        if self.activation == \"relu\":\n",
        "            return F.relu(x)\n",
        "        if self.activation == \"sigmoid\":\n",
        "            return F.sigmoid(x)\n",
        "        raise RuntimeError\n",
        "\n",
        "\n",
        "class FeedForward(nn.Module):\n",
        "    def __init__(self, input_dim, hidden_dim):\n",
        "        super().__init__()\n",
        "        self.fc1 = Perceptron(input_dim, hidden_dim)\n",
        "        self.bn = nn.BatchNorm1d(hidden_dim)\n",
        "        self.dp = nn.Dropout(0.25)\n",
        "        self.fc2 = Perceptron(hidden_dim, 10, \"relu\")\n",
        "\n",
        "    def forward(self, x):\n",
        "        x = self.fc1(x)\n",
        "        x = self.dp(x)\n",
        "        x = self.bn(x)\n",
        "        x = self.fc2(x)\n",
        "        return x"
      ]
    },
    {
      "cell_type": "code",
      "execution_count": 16,
      "metadata": {
        "id": "FCnKJyDvJ8kI"
      },
      "outputs": [],
      "source": [
        "net = FeedForward(3*32*32, 200)\n",
        "\n",
        "# Оптимизатор\n",
        "optimizer = torch.optim.SGD(net.parameters(), lr=0.01)\n",
        "# Функция потерь\n",
        "criterion = nn.CrossEntropyLoss()"
      ]
    },
    {
      "cell_type": "code",
      "execution_count": 17,
      "metadata": {
        "id": "rTKeMl5KJ8kK",
        "outputId": "220c03d5-b1c5-4c42-9841-98b6a7c95a8c",
        "colab": {
          "base_uri": "https://localhost:8080/"
        }
      },
      "outputs": [
        {
          "output_type": "stream",
          "name": "stdout",
          "text": [
            "Epoch [1/20]. Step [1/391]. Loss: 0.019. Acc: 0.086. Test acc: 0.097\n",
            "Epoch [1/20]. Step [151/391]. Loss: 0.016. Acc: 0.252. Test acc: 0.313\n",
            "Epoch [1/20]. Step [301/391]. Loss: 0.015. Acc: 0.306. Test acc: 0.338\n",
            "Epoch [2/20]. Step [1/391]. Loss: 0.015. Acc: 0.328. Test acc: 0.356\n",
            "Epoch [2/20]. Step [151/391]. Loss: 0.015. Acc: 0.333. Test acc: 0.369\n",
            "Epoch [2/20]. Step [301/391]. Loss: 0.015. Acc: 0.336. Test acc: 0.376\n",
            "Epoch [3/20]. Step [1/391]. Loss: 0.014. Acc: 0.367. Test acc: 0.378\n",
            "Epoch [3/20]. Step [151/391]. Loss: 0.015. Acc: 0.348. Test acc: 0.383\n",
            "Epoch [3/20]. Step [301/391]. Loss: 0.015. Acc: 0.354. Test acc: 0.387\n",
            "Epoch [4/20]. Step [1/391]. Loss: 0.015. Acc: 0.344. Test acc: 0.384\n",
            "Epoch [4/20]. Step [151/391]. Loss: 0.014. Acc: 0.360. Test acc: 0.393\n",
            "Epoch [4/20]. Step [301/391]. Loss: 0.014. Acc: 0.360. Test acc: 0.393\n",
            "Epoch [5/20]. Step [1/391]. Loss: 0.015. Acc: 0.328. Test acc: 0.408\n",
            "Epoch [5/20]. Step [151/391]. Loss: 0.014. Acc: 0.365. Test acc: 0.404\n",
            "Epoch [5/20]. Step [301/391]. Loss: 0.014. Acc: 0.365. Test acc: 0.396\n",
            "Epoch [6/20]. Step [1/391]. Loss: 0.013. Acc: 0.430. Test acc: 0.384\n",
            "Epoch [6/20]. Step [151/391]. Loss: 0.014. Acc: 0.360. Test acc: 0.324\n",
            "Epoch [6/20]. Step [301/391]. Loss: 0.014. Acc: 0.368. Test acc: 0.413\n",
            "Epoch [7/20]. Step [1/391]. Loss: 0.014. Acc: 0.320. Test acc: 0.409\n",
            "Epoch [7/20]. Step [151/391]. Loss: 0.014. Acc: 0.369. Test acc: 0.318\n",
            "Epoch [7/20]. Step [301/391]. Loss: 0.014. Acc: 0.366. Test acc: 0.406\n",
            "Epoch [8/20]. Step [1/391]. Loss: 0.014. Acc: 0.336. Test acc: 0.402\n",
            "Epoch [8/20]. Step [151/391]. Loss: 0.014. Acc: 0.371. Test acc: 0.409\n",
            "Epoch [8/20]. Step [301/391]. Loss: 0.014. Acc: 0.371. Test acc: 0.416\n",
            "Epoch [9/20]. Step [1/391]. Loss: 0.015. Acc: 0.375. Test acc: 0.412\n",
            "Epoch [9/20]. Step [151/391]. Loss: 0.014. Acc: 0.377. Test acc: 0.424\n",
            "Epoch [9/20]. Step [301/391]. Loss: 0.014. Acc: 0.374. Test acc: 0.423\n",
            "Epoch [10/20]. Step [1/391]. Loss: 0.014. Acc: 0.375. Test acc: 0.401\n",
            "Epoch [10/20]. Step [151/391]. Loss: 0.014. Acc: 0.373. Test acc: 0.411\n",
            "Epoch [10/20]. Step [301/391]. Loss: 0.014. Acc: 0.375. Test acc: 0.425\n",
            "Epoch [11/20]. Step [1/391]. Loss: 0.014. Acc: 0.352. Test acc: 0.426\n",
            "Epoch [11/20]. Step [151/391]. Loss: 0.014. Acc: 0.373. Test acc: 0.432\n",
            "Epoch [11/20]. Step [301/391]. Loss: 0.014. Acc: 0.381. Test acc: 0.416\n",
            "Epoch [12/20]. Step [1/391]. Loss: 0.013. Acc: 0.391. Test acc: 0.429\n",
            "Epoch [12/20]. Step [151/391]. Loss: 0.014. Acc: 0.383. Test acc: 0.416\n",
            "Epoch [12/20]. Step [301/391]. Loss: 0.014. Acc: 0.382. Test acc: 0.428\n",
            "Epoch [13/20]. Step [1/391]. Loss: 0.014. Acc: 0.383. Test acc: 0.439\n",
            "Epoch [13/20]. Step [151/391]. Loss: 0.014. Acc: 0.384. Test acc: 0.434\n",
            "Epoch [13/20]. Step [301/391]. Loss: 0.014. Acc: 0.385. Test acc: 0.430\n",
            "Epoch [14/20]. Step [1/391]. Loss: 0.014. Acc: 0.391. Test acc: 0.423\n",
            "Epoch [14/20]. Step [151/391]. Loss: 0.014. Acc: 0.383. Test acc: 0.440\n",
            "Epoch [14/20]. Step [301/391]. Loss: 0.014. Acc: 0.378. Test acc: 0.429\n",
            "Epoch [15/20]. Step [1/391]. Loss: 0.014. Acc: 0.344. Test acc: 0.437\n",
            "Epoch [15/20]. Step [151/391]. Loss: 0.014. Acc: 0.383. Test acc: 0.418\n",
            "Epoch [15/20]. Step [301/391]. Loss: 0.014. Acc: 0.375. Test acc: 0.431\n",
            "Epoch [16/20]. Step [1/391]. Loss: 0.013. Acc: 0.375. Test acc: 0.413\n",
            "Epoch [16/20]. Step [151/391]. Loss: 0.014. Acc: 0.374. Test acc: 0.435\n",
            "Epoch [16/20]. Step [301/391]. Loss: 0.014. Acc: 0.372. Test acc: 0.428\n",
            "Epoch [17/20]. Step [1/391]. Loss: 0.014. Acc: 0.375. Test acc: 0.420\n",
            "Epoch [17/20]. Step [151/391]. Loss: 0.014. Acc: 0.381. Test acc: 0.424\n",
            "Epoch [17/20]. Step [301/391]. Loss: 0.014. Acc: 0.377. Test acc: 0.427\n",
            "Epoch [18/20]. Step [1/391]. Loss: 0.014. Acc: 0.344. Test acc: 0.426\n",
            "Epoch [18/20]. Step [151/391]. Loss: 0.014. Acc: 0.377. Test acc: 0.437\n",
            "Epoch [18/20]. Step [301/391]. Loss: 0.014. Acc: 0.389. Test acc: 0.441\n",
            "Epoch [19/20]. Step [1/391]. Loss: 0.014. Acc: 0.367. Test acc: 0.436\n",
            "Epoch [19/20]. Step [151/391]. Loss: 0.014. Acc: 0.377. Test acc: 0.439\n",
            "Epoch [19/20]. Step [301/391]. Loss: 0.014. Acc: 0.382. Test acc: 0.442\n",
            "Epoch [20/20]. Step [1/391]. Loss: 0.013. Acc: 0.391. Test acc: 0.435\n",
            "Epoch [20/20]. Step [151/391]. Loss: 0.014. Acc: 0.383. Test acc: 0.427\n",
            "Epoch [20/20]. Step [301/391]. Loss: 0.014. Acc: 0.383. Test acc: 0.430\n",
            "Training is finished!\n"
          ]
        }
      ],
      "source": [
        "num_epochs = 20\n",
        "\n",
        "for epoch in range(num_epochs):\n",
        "    running_loss, running_items, running_right = 0.0, 0.0, 0.0\n",
        "    for i, data in enumerate(train_loader):\n",
        "        inputs, labels = data[0], data[1]\n",
        "\n",
        "        # обнуляем градиент\n",
        "        optimizer.zero_grad()\n",
        "\n",
        "        outputs = net(inputs)                # Предсказание\n",
        "        loss = criterion(outputs, labels)    # Ошибка\n",
        "        loss.backward()                      # Градиенты\n",
        "        optimizer.step()                     # Шаг оптимизации\n",
        "\n",
        "        # выводим статистику о процессе обучения\n",
        "        running_loss += loss.item()\n",
        "        running_items += len(labels)\n",
        "        running_right += (labels == torch.max(outputs, 1)[1]).sum()\n",
        "\n",
        "        # выводим статистику о процессе обучения\n",
        "        if i % 150 == 0:    # печатаем каждые 300 mini-batches\n",
        "            net.eval()\n",
        "\n",
        "            print(f'Epoch [{epoch + 1}/{num_epochs}]. ' \\\n",
        "                  f'Step [{i + 1}/{len(train_loader)}]. ' \\\n",
        "                  f'Loss: {running_loss / running_items:.3f}. ' \\\n",
        "                  f'Acc: {running_right / running_items:.3f}', end='. ')\n",
        "            running_loss, running_items, running_right = 0.0, 0.0, 0.0\n",
        "\n",
        "            test_running_right, test_running_total = 0.0, 0.0\n",
        "            for i, data in enumerate(test_loader):\n",
        "\n",
        "                test_outputs = net(data[0])\n",
        "                test_running_total += len(data[1])\n",
        "                test_running_right += (data[1] == torch.max(test_outputs, 1)[1]).sum()\n",
        "\n",
        "            print(f'Test acc: {test_running_right / test_running_total:.3f}')\n",
        "            net.train()\n",
        "\n",
        "print('Training is finished!')"
      ]
    },
    {
      "cell_type": "markdown",
      "metadata": {
        "id": "3AA_rUsQlrgH"
      },
      "source": [
        "## Оптимизаторы\n",
        "\n",
        "Как конкретно мы собираемся обновлять параметры? Это про улучшенные методы градиентного спуска, которые есть в pytorch.\n",
        "Все оптимизаторы можно найти в разделе [torch.optim](https://pytorch.org/docs/stable/optim.html)"
      ]
    },
    {
      "cell_type": "markdown",
      "source": [
        "\n",
        "### SGD  \n",
        "\n",
        "В самом простом варианте , мы вычисляем наш градиент и умножаем на learningrate.\n",
        "$$w = w - learning\\_rate * gradient$$"
      ],
      "metadata": {
        "id": "KzpAqPIQQOSR"
      }
    },
    {
      "cell_type": "markdown",
      "metadata": {
        "id": "5tFb0gGGlrgH"
      },
      "source": [
        "Но оказывается что это не так уж и эффективно. На гифке ниже видны разные подходы оптимизаторов. Они из одной точки по-разному добираются до цели. Можно увидеть что в отличие от нашего простого метода(SGD) другие оптимизаторы выполняют свою работу намного быстрее. Это происходит в основном из-за неконстантного шага обучения:"
      ]
    },
    {
      "cell_type": "markdown",
      "metadata": {
        "id": "3kFEaPQ3lrgI"
      },
      "source": [
        "<img src='https://i.stack.imgur.com/8rpzr.gif'>"
      ]
    },
    {
      "cell_type": "markdown",
      "source": [
        "<img src='https://drive.google.com/uc?export=view&id=12D44wSjCypIi0O9N6Uj36w5tWkhW79pG'>"
      ],
      "metadata": {
        "id": "E1GbXCQOxAgE"
      }
    },
    {
      "cell_type": "markdown",
      "source": [
        "<img src='https://drive.google.com/uc?export=view&id=13JItksqmvlEe7ponSpskIWEmAFdXD4CW' width=500>"
      ],
      "metadata": {
        "id": "rkxd6H4Sw5dD"
      }
    },
    {
      "cell_type": "code",
      "source": [],
      "metadata": {
        "id": "5yWT4VqfwwCK"
      },
      "execution_count": 17,
      "outputs": []
    },
    {
      "cell_type": "markdown",
      "metadata": {
        "id": "-SGTgbhYlrgJ"
      },
      "source": [
        "Давайте подробнее посмотрим на эти оптимизаторы и как ими пользоваться в pytorch:"
      ]
    },
    {
      "cell_type": "markdown",
      "metadata": {
        "id": "qoSR0zdSlrgK"
      },
      "source": [
        "Как реализовано в pytorch:"
      ]
    },
    {
      "cell_type": "code",
      "metadata": {
        "id": "_PvHaeKxlrgK"
      },
      "source": [
        "optimizer = torch.optim.SGD(net.parameters(), lr=0.1)"
      ],
      "execution_count": 18,
      "outputs": []
    },
    {
      "cell_type": "markdown",
      "metadata": {
        "id": "eUgJU3bXlrgL"
      },
      "source": [
        "### Momentum (импульс)\n",
        "\n",
        "\n",
        "\n",
        "[статья](https://arxiv.org/abs/1810.13395?utm_source=feedburner&utm_medium=feed&utm_campaign=Feed%253A+arxiv%252FQSXk+%2528ExcitingAds%2521+cs+updates+on+arXiv.org%2529)  \n",
        "[pytorch doc](https://pytorch.org/docs/master/generated/torch.optim.SGD.html?highlight=sgd#torch.optim.SGD)\n",
        "\n",
        "<img src='https://drive.google.com/uc?export=view&id=1JMoY1y1oZUtiicvCuhxhliiLBLoNl7bA' width=600>\n",
        "\n",
        "\n",
        "$$velocity = momentum * velocity - \\eta*gradient\\\\w = w + velocity$$"
      ]
    },
    {
      "cell_type": "markdown",
      "metadata": {
        "id": "IxOID2bPlrgN"
      },
      "source": [
        "Как это математически объясняется: мы накапливаем некоторую скорость velocity, которая скорость вектора. Наш learningrate, который мы применяли к веса, теперь применяется к скорости. Т.е. по направлению градиента мы увеличиваем не просто веса, а скорость изменения весов. И есть такой момент затухания momentum, для того что бы было каке-то трение в системе, иначе все это улетит очень при очень далеко. И мы обычно берем momentum от 0.9-0.99.\n",
        "И таким образом мы берем старое значение скорости, его немного уменьшаем и добавляем к нему направление градиента."
      ]
    },
    {
      "cell_type": "markdown",
      "metadata": {
        "id": "sqtk507kfVDI"
      },
      "source": [
        "\n",
        "\n",
        "<img src='https://drive.google.com/uc?export=view&id=1h0u3hNo2cjDRoq0FVdXIScgRo6Iq687y' width=400>"
      ]
    },
    {
      "cell_type": "markdown",
      "metadata": {
        "id": "QnMoeBWF3f8g"
      },
      "source": [
        "Засчет добавления импульса получается сглаживание оптимизации.\n",
        "\n",
        "|$t_1$|$t_2$|..|$t_n$|\n",
        "|--|--|--|--|\n",
        "|$g_1$|$g_2$|..|$g_n$|\n",
        "\n",
        "$\\gamma = 0.5$\n",
        "\n",
        "$v_1 = g_1$<br>\n",
        "$v_2 = \\gamma * v_1 + g_2 = 0.5 * g_1 + g_2$<br>\n",
        "$v_3 = \\gamma * v_2 + g_3 = \\gamma (\\gamma * v_1 + g_2) + g_3 = \\gamma^2 * g_1 + \\gamma * g_2 + g_3 = 0.25 * g_1 + 0.5 * g_2 + g_3$<br>"
      ]
    },
    {
      "cell_type": "markdown",
      "metadata": {
        "id": "wUHfJiIflrgO"
      },
      "source": [
        "Как реализовано в pytorch:"
      ]
    },
    {
      "cell_type": "code",
      "metadata": {
        "id": "60wFP2udlrgP"
      },
      "source": [
        "optimizer = torch.optim.SGD(net.parameters(), lr=0.1, momentum=0.9)"
      ],
      "execution_count": 19,
      "outputs": []
    },
    {
      "cell_type": "markdown",
      "metadata": {
        "id": "P8F7XM9ilrgP"
      },
      "source": [
        "Другие методы предназначены для решения кейса \"седловая точка\". Седловая точка - это точка в которой формально градиент равен нулю. Но это не глобальный минимум. Он по некоторым направлениям локальный минимум, а по некоторым локальный максимум. Т.е. это не точка глобального минимума. И вообще было такое обсуждение, что методы градиентого спуска могут скатиться в локальные мимнимумы. Но оказывается на практике это сделать довольно сложно. Пространство на столько огромное, что найти настоящий глобальный минимум по этим тысячам параметров довольно сложно. И такой проблемы на практике скорее нет. А есть проблема, что метод может скатиться в такие точки, что градиент все еще ноль. И поэтому если мы в нем оказались, то очень сложно из него выйти, тк. нет сигнала от градиента. Но если отойти в определенном направлении, то можно понять что эта точка так же и локальный максимум. И после этого можно успешно скатиться.\n",
        "И поэтому есть несколько модификаций градиентного спуска, что бы как раз выкатываться из таких точек."
      ]
    },
    {
      "cell_type": "markdown",
      "metadata": {
        "id": "FmWVdJk-lrgQ"
      },
      "source": [
        "<img src='https://i.ytimg.com/vi/fODpu1-lNTw/maxresdefault.jpg' width=600>"
      ]
    },
    {
      "cell_type": "code",
      "source": [],
      "metadata": {
        "id": "A4-P1FnbBpHP"
      },
      "execution_count": null,
      "outputs": []
    },
    {
      "cell_type": "markdown",
      "metadata": {
        "id": "npFYZWVYlrgQ"
      },
      "source": [
        "### Adagrad\n",
        "\n",
        "[статья](http://www.jmlr.org/papers/volume12/duchi11a/duchi11a.pdf)  \n",
        "[pytorch doc](https://pytorch.org/docs/master/generated/torch.optim.Adagrad.html?highlight=adagrad#torch.optim.Adagrad)\n",
        "\n",
        "Собственно каким образом этим методам удается выходить из подобных точек.\n",
        "\n"
      ]
    },
    {
      "cell_type": "markdown",
      "metadata": {
        "id": "OX-YS6urlrgR"
      },
      "source": [
        "Основная идея следующая - делать learning_rate не константой для всех измерений, а адаптивно для разных измерений и весов подбирать свой learning_rate. Если по какому-то направлению нам градиент будет говорить что там не интересно, там очень маленькое изменение, мы его искусственно повысим. А в тех направлениях где градиент  будет говорить что да, нужно во всю двигаться - мы наоборот его понизим. таким образом мы накапливаем статистику какие градиенты мы считаем наиболее важными или наименее важными. И усилим те которые считаются неважными. И это даст нам возможность выкатиться, потому что мы даже по неважным измерениям будем знать существенный шаг. А как только мы выкатились из этой точки, то сразу происходит существенное ускорение.   \n",
        "Как мы это делаем:\n",
        "$$accumulated = accumulated + gradient^2\\\\adaptive\\_\\eta = \\frac{\\eta}{sqrt(accumulated)}\\\\w = w - adaptive\\_\\eta*gradient$$"
      ]
    },
    {
      "cell_type": "markdown",
      "metadata": {
        "id": "JEPesFb_lrgS"
      },
      "source": [
        "Мы таким образом считаем накопленный вес accumulated как квадрат градиента по всем направлениям. Т.е. если в каком-то направлении этот градиент будет большой - там этот квадрат мы накопим очень большой. А потом поделим на корень из него. Т.о. мы уменьшим adaptive_learning_rate в местах где градиент накопился и наоборот в обратном случае. И будем вот с таким adaptive_learning_rate обновлять наши веса."
      ]
    },
    {
      "cell_type": "markdown",
      "metadata": {
        "id": "UKDeEHtwlrgS"
      },
      "source": [
        "Как реализовано в pytorch:"
      ]
    },
    {
      "cell_type": "code",
      "metadata": {
        "id": "WJ57MXl5lrgT"
      },
      "source": [
        "optimizer = torch.optim.Adagrad(net.parameters(), lr=0.1)"
      ],
      "execution_count": 20,
      "outputs": []
    },
    {
      "cell_type": "markdown",
      "metadata": {
        "id": "9Bb5LTv5lrgU"
      },
      "source": [
        "### RMSProp\n",
        "[статья](https://arxiv.org/abs/1412.6980)  \n",
        "[pytorch doc](https://pytorch.org/docs/master/generated/torch.optim.RMSprop.html)\n",
        "\n",
        "Следующий апгрейт делает примерно тоже самое, но только применяет к аккумуляции релаксацию как в momentum'е.  \n",
        "$$accumulated = \\rho * accumulated + (1-\\rho) * gradient^2\\\\adaptive\\eta = \\frac{\\eta}{sqrt(accumulated)}\\\\w = w - adaptive\\eta*gradient$$"
      ]
    },
    {
      "cell_type": "markdown",
      "metadata": {
        "id": "CrYFbR-slrgV"
      },
      "source": [
        "Как реализовано в pytorch:"
      ]
    },
    {
      "cell_type": "code",
      "metadata": {
        "id": "zYquTjk0lrgV"
      },
      "source": [
        "optimizer = torch.optim.RMSprop(net.parameters(), lr=0.1, alpha=0.99)"
      ],
      "execution_count": 21,
      "outputs": []
    },
    {
      "cell_type": "code",
      "source": [],
      "metadata": {
        "id": "XrARqiLgCI1a"
      },
      "execution_count": null,
      "outputs": []
    },
    {
      "cell_type": "markdown",
      "metadata": {
        "id": "7OsmUvD3lrgW"
      },
      "source": [
        "### Adam\n",
        "\n",
        "[статья](https://arxiv.org/abs/1412.6980)  \n",
        "[pytorch doc](https://pytorch.org/docs/master/generated/torch.optim.Adam.html?highlight=adam#torch.optim.Adam)\n",
        "\n",
        "Этот метод комбинирует идеи RMSProp + Momentum.\n",
        "\n",
        "$$velocity = beta1 * velocity + (1-beta1) * gradient\\\\accumulated = beta2*accumulated + (1-beta2)*gradient^2\\\\adaptive\\_\\eta = \\frac{\\eta}{sqrt(accumulated)}\\\\w = w - adaptive\\_\\eta*velocity$$"
      ]
    },
    {
      "cell_type": "markdown",
      "metadata": {
        "id": "c37oeTvqlrgW"
      },
      "source": [
        "Т.е. все так же есть adaptive_learning_rate, но мы применяем его не к обычному градиенту, а к скорости, которая вычисляется как в momentum'е."
      ]
    },
    {
      "cell_type": "markdown",
      "metadata": {
        "id": "D8_gfvmElrgX"
      },
      "source": [
        "Как реализовано в pytorch:"
      ]
    },
    {
      "cell_type": "code",
      "metadata": {
        "id": "xCbiOprClrgY"
      },
      "source": [
        "optimizer = torch.optim.Adam(net.parameters(), lr=0.1)"
      ],
      "execution_count": 22,
      "outputs": []
    },
    {
      "cell_type": "markdown",
      "metadata": {
        "id": "99hvXk0mlrgY"
      },
      "source": [
        "Adam - такой хороший современный выбор по дефолту. Если не знаете какой оптимизатор использовать - берите его!"
      ]
    },
    {
      "cell_type": "markdown",
      "source": [
        "# Домашнее задание\n",
        "\n",
        "Будем практиковаться на датасете недвижимости (sklearn.datasets.fetch_california_housing)\n",
        "\n",
        "Ваша задача:\n",
        "1. Создать Dataset для загрузки данных\n",
        "2. Обернуть его в Dataloader\n",
        "3. Написать архитектуру сети, которая предсказывает стоимость недвижимости. Сеть должна включать BatchNorm слои и Dropout (или НЕ включать, но нужно обосновать)\n",
        "4. Сравните сходимость Adam, RMSProp и SGD, сделайте вывод по качеству работы модели\n",
        "\n",
        "train-test разделение нужно сделать с помощью sklearn random_state=13, test_size = 0.25"
      ],
      "metadata": {
        "id": "_1kh-e0oXz7V"
      }
    },
    {
      "cell_type": "code",
      "source": [
        "import pandas as pd\n",
        "from sklearn.datasets import fetch_california_housing\n",
        "data = fetch_california_housing()\n",
        "df = pd.DataFrame(data.data, columns=data.feature_names)\n",
        "df['target'] = data.target\n",
        "\n",
        "X, y = fetch_california_housing(return_X_y=True)\n",
        "#X_train, X_test, y_train, y_test = train_test_split(X, y, random_state=13, test_size=0.25)\n",
        "\n",
        "california_housing_dataset = fetch_california_housing(data_home='D:/Data/Study/scikit_learn_data', as_frame=True)\n"
      ],
      "metadata": {
        "id": "pUWNwUDpxSIg"
      },
      "execution_count": 31,
      "outputs": []
    },
    {
      "cell_type": "code",
      "source": [],
      "metadata": {
        "id": "3F90azf7D72Y"
      },
      "execution_count": null,
      "outputs": []
    }
  ],
  "metadata": {
    "kernelspec": {
      "display_name": "Python 3",
      "language": "python",
      "name": "python3"
    },
    "language_info": {
      "codemirror_mode": {
        "name": "ipython",
        "version": 3
      },
      "file_extension": ".py",
      "mimetype": "text/x-python",
      "name": "python",
      "nbconvert_exporter": "python",
      "pygments_lexer": "ipython3",
      "version": "3.7.4"
    },
    "colab": {
      "provenance": []
    }
  },
  "nbformat": 4,
  "nbformat_minor": 0
}