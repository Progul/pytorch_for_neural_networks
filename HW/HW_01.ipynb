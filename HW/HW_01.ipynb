{
  "cells": [
    {
      "attachments": {},
      "cell_type": "markdown",
      "metadata": {},
      "source": [
        "# Домашняя работа №1"
      ]
    },
    {
      "attachments": {},
      "cell_type": "markdown",
      "metadata": {},
      "source": [
        "Создайте случайный FloatTensor размера 3x4x5 <br>\n",
        "Выведите его форму (shape)<br>\n",
        "Приведите его к форме 6х10<br>\n",
        "Создайте случайный IntTensor размера 10<br>\n",
        "Умножьте созданный FloatTensor на созданный IntTensor поэлементно<br>\n",
        "Умножьте тензор матрично на себя, чтобы результат был размерности 6x6 Подсказка: .dot может не подойти<br>\n",
        "Посчитайте производную функции y = x**3 + z - 75t в точке (1, 0.5, 2)<br>\n",
        "Создайте единичный тензор размера 5x6<br>\n",
        "Переведите его в формат numpy<br>"
      ]
    },
    {
      "cell_type": "code",
      "execution_count": 1,
      "metadata": {
        "id": "tvstlCOJWOju"
      },
      "outputs": [],
      "source": [
        "import torch"
      ]
    },
    {
      "cell_type": "code",
      "execution_count": 2,
      "metadata": {
        "colab": {
          "base_uri": "https://localhost:8080/"
        },
        "id": "uRamXQIbWOj1",
        "outputId": "b9f8c8b8-fd08-4432-d250-004ceb6b3586"
      },
      "outputs": [
        {
          "name": "stdout",
          "output_type": "stream",
          "text": [
            "tensor([[[0.1353, 0.1042, 0.2091, 0.9364, 0.3208],\n",
            "         [0.1104, 0.7617, 0.8838, 0.8534, 0.2971],\n",
            "         [0.5901, 0.3984, 0.3263, 0.7335, 0.5620],\n",
            "         [0.6363, 0.3893, 0.2740, 0.7068, 0.1535]],\n",
            "\n",
            "        [[0.1097, 0.2212, 0.3794, 0.8281, 0.9182],\n",
            "         [0.0837, 0.3688, 0.7932, 0.7956, 0.9326],\n",
            "         [0.0826, 0.4195, 0.3906, 0.1757, 0.5402],\n",
            "         [0.1652, 0.6865, 0.4046, 0.0346, 0.3513]],\n",
            "\n",
            "        [[0.4263, 0.3784, 0.6282, 0.5836, 0.5297],\n",
            "         [0.1150, 0.3330, 0.9693, 0.9528, 0.1500],\n",
            "         [0.0241, 0.4645, 0.0912, 0.6712, 0.9388],\n",
            "         [0.5720, 0.7858, 0.2883, 0.7740, 0.6097]]])\n",
            "torch.Size([3, 4, 5])\n"
          ]
        }
      ],
      "source": [
        "# Создайте случайный FloatTensor размера 3x4x5\n",
        "a=torch.rand(60)\n",
        "q=a.reshape(3,4,5)\n",
        "print(q)\n",
        "print(q.size())"
      ]
    },
    {
      "cell_type": "code",
      "execution_count": 3,
      "metadata": {
        "colab": {
          "base_uri": "https://localhost:8080/"
        },
        "id": "og04-cmfWOj4",
        "outputId": "d67d9e7a-f0d1-469c-fbb2-cc49be090c86"
      },
      "outputs": [
        {
          "name": "stdout",
          "output_type": "stream",
          "text": [
            "torch.Size([3, 4, 5])\n"
          ]
        }
      ],
      "source": [
        "# Выведите его форму (shape)\n",
        "print(q.shape)"
      ]
    },
    {
      "cell_type": "code",
      "execution_count": 4,
      "metadata": {
        "colab": {
          "base_uri": "https://localhost:8080/"
        },
        "id": "IsDhnzwaWOj6",
        "outputId": "77829c94-e1b1-4f06-de56-d1b175e25143"
      },
      "outputs": [
        {
          "name": "stdout",
          "output_type": "stream",
          "text": [
            "tensor([[0.1353, 0.1042, 0.2091, 0.9364, 0.3208, 0.1104, 0.7617, 0.8838, 0.8534,\n",
            "         0.2971],\n",
            "        [0.5901, 0.3984, 0.3263, 0.7335, 0.5620, 0.6363, 0.3893, 0.2740, 0.7068,\n",
            "         0.1535],\n",
            "        [0.1097, 0.2212, 0.3794, 0.8281, 0.9182, 0.0837, 0.3688, 0.7932, 0.7956,\n",
            "         0.9326],\n",
            "        [0.0826, 0.4195, 0.3906, 0.1757, 0.5402, 0.1652, 0.6865, 0.4046, 0.0346,\n",
            "         0.3513],\n",
            "        [0.4263, 0.3784, 0.6282, 0.5836, 0.5297, 0.1150, 0.3330, 0.9693, 0.9528,\n",
            "         0.1500],\n",
            "        [0.0241, 0.4645, 0.0912, 0.6712, 0.9388, 0.5720, 0.7858, 0.2883, 0.7740,\n",
            "         0.6097]])\n",
            "torch.Size([6, 10])\n"
          ]
        }
      ],
      "source": [
        "# Приведите его к форме 6 X 10\n",
        "z=q.reshape(6,10)\n",
        "print(z)\n",
        "print(z.shape)"
      ]
    },
    {
      "cell_type": "code",
      "execution_count": 6,
      "metadata": {
        "colab": {
          "base_uri": "https://localhost:8080/",
          "height": 208
        },
        "id": "mzm50mMyWOj7",
        "outputId": "070e6142-4df8-441f-f612-60cba84e4a2a"
      },
      "outputs": [
        {
          "ename": "RuntimeError",
          "evalue": "ignored",
          "output_type": "error",
          "traceback": [
            "\u001b[0;31m---------------------------------------------------------------------------\u001b[0m",
            "\u001b[0;31mRuntimeError\u001b[0m                              Traceback (most recent call last)",
            "\u001b[0;32m<ipython-input-6-c488f8a136cd>\u001b[0m in \u001b[0;36m<module>\u001b[0;34m()\u001b[0m\n\u001b[1;32m      1\u001b[0m \u001b[0;31m# Умножьте его на вектор [1, 4, 2, 2, 1] поэлементно\u001b[0m\u001b[0;34m\u001b[0m\u001b[0;34m\u001b[0m\u001b[0;34m\u001b[0m\u001b[0m\n\u001b[1;32m      2\u001b[0m \u001b[0mm1\u001b[0m\u001b[0;34m=\u001b[0m\u001b[0mtorch\u001b[0m\u001b[0;34m.\u001b[0m\u001b[0mIntTensor\u001b[0m\u001b[0;34m(\u001b[0m\u001b[0;34m[\u001b[0m\u001b[0;36m1\u001b[0m\u001b[0;34m,\u001b[0m\u001b[0;36m4\u001b[0m\u001b[0;34m,\u001b[0m\u001b[0;36m2\u001b[0m\u001b[0;34m,\u001b[0m\u001b[0;36m2\u001b[0m\u001b[0;34m,\u001b[0m\u001b[0;36m1\u001b[0m\u001b[0;34m,\u001b[0m\u001b[0;36m2\u001b[0m\u001b[0;34m]\u001b[0m\u001b[0;34m)\u001b[0m\u001b[0;34m\u001b[0m\u001b[0;34m\u001b[0m\u001b[0m\n\u001b[0;32m----> 3\u001b[0;31m \u001b[0mm\u001b[0m\u001b[0;34m=\u001b[0m\u001b[0mz\u001b[0m\u001b[0;34m.\u001b[0m\u001b[0mmm\u001b[0m\u001b[0;34m(\u001b[0m\u001b[0mm1\u001b[0m\u001b[0;34m)\u001b[0m\u001b[0;34m\u001b[0m\u001b[0;34m\u001b[0m\u001b[0m\n\u001b[0m",
            "\u001b[0;31mRuntimeError\u001b[0m: mat2 must be a matrix"
          ]
        }
      ],
      "source": [
        "# Умножьте его на вектор [1, 4, 2, 2, 1] поэлементно\n",
        "m1=torch.IntTensor([1,4,2,2,1])\n",
        "m=z.dot(m1)"
      ]
    },
    {
      "cell_type": "code",
      "execution_count": null,
      "metadata": {
        "colab": {
          "base_uri": "https://localhost:8080/"
        },
        "id": "3EXXUcARWOj8",
        "outputId": "23a5606a-384c-4def-b87b-2bd95ed1783c"
      },
      "outputs": [
        {
          "name": "stdout",
          "output_type": "stream",
          "text": [
            "tensor([[0.4621, 0.9101, 0.5543, 0.6047, 0.7185, 0.3547],\n",
            "        [0.4986, 0.6361, 0.8602, 0.4079, 0.1214, 0.5451],\n",
            "        [0.5102, 0.6807, 0.9214, 0.2685, 0.7920, 0.3614],\n",
            "        [0.7973, 0.3194, 0.3710, 0.5297, 0.6693, 0.7577],\n",
            "        [0.5924, 0.5125, 0.5831, 0.3053, 0.2806, 0.1933],\n",
            "        [0.0440, 0.4071, 0.5060, 0.4855, 0.2950, 0.3984],\n",
            "        [0.3246, 0.9462, 0.9125, 0.0677, 0.3763, 0.7837],\n",
            "        [0.6485, 0.1373, 0.8892, 0.7199, 0.3432, 0.4968],\n",
            "        [0.6043, 0.3646, 0.8649, 0.9491, 0.3356, 0.9373],\n",
            "        [0.6566, 0.2159, 0.0248, 0.9165, 0.8477, 0.4917]])\n",
            "torch.Size([10, 6])\n",
            "torch.Size([6, 6])\n"
          ]
        }
      ],
      "source": [
        "# Умножьте тензор матрично на себя, чтобы результат был размерности 6x6\n",
        "z1=z.mm(z.T)\n",
        "print(a)\n",
        "print(a.shape)\n",
        "print(z1.shape)"
      ]
    },
    {
      "cell_type": "code",
      "execution_count": null,
      "metadata": {
        "colab": {
          "base_uri": "https://localhost:8080/"
        },
        "id": "53_nHQvSWOj9",
        "outputId": "511c4d88-818f-4c08-aecf-fb2590fa67c5"
      },
      "outputs": [
        {
          "name": "stdout",
          "output_type": "stream",
          "text": [
            "tensor([-71.0000, -73.2500, -62.0000])\n"
          ]
        }
      ],
      "source": [
        "# Посчитайте производную функции y = x**3 + z - 75t в точке (1, 0.5, 2)\n",
        "x=torch.FloatTensor([1,0.5,2])\n",
        "ys=3*x**2-74\n",
        "print(ys)"
      ]
    },
    {
      "cell_type": "code",
      "execution_count": 9,
      "metadata": {
        "colab": {
          "base_uri": "https://localhost:8080/"
        },
        "id": "IyhDvepcWOj_",
        "outputId": "7788f49a-eb6f-4218-fba0-d3dbb4b01d6e"
      },
      "outputs": [
        {
          "name": "stdout",
          "output_type": "stream",
          "text": [
            "tensor([[1., 1., 1., 1., 1., 1.],\n",
            "        [1., 1., 1., 1., 1., 1.],\n",
            "        [1., 1., 1., 1., 1., 1.],\n",
            "        [1., 1., 1., 1., 1., 1.],\n",
            "        [1., 1., 1., 1., 1., 1.]])\n",
            "torch.Size([5, 6])\n"
          ]
        }
      ],
      "source": [
        "# Создайте единичный тензор размера 5x6\n",
        "x=torch.ones(5,6)\n",
        "print(x)\n",
        "print(x.shape)"
      ]
    },
    {
      "cell_type": "code",
      "execution_count": 10,
      "metadata": {
        "colab": {
          "base_uri": "https://localhost:8080/"
        },
        "id": "5BL6Mv0QWOkA",
        "outputId": "93e00de9-338a-4fec-acd2-35bc7219d4f7"
      },
      "outputs": [
        {
          "data": {
            "text/plain": [
              "array([[1., 1., 1., 1., 1., 1.],\n",
              "       [1., 1., 1., 1., 1., 1.],\n",
              "       [1., 1., 1., 1., 1., 1.],\n",
              "       [1., 1., 1., 1., 1., 1.],\n",
              "       [1., 1., 1., 1., 1., 1.]], dtype=float32)"
            ]
          },
          "execution_count": 10,
          "metadata": {},
          "output_type": "execute_result"
        }
      ],
      "source": [
        "# Переведите его в формат numpy\n",
        "x.numpy()"
      ]
    },
    {
      "cell_type": "code",
      "execution_count": 11,
      "metadata": {
        "colab": {
          "base_uri": "https://localhost:8080/"
        },
        "id": "YUt2Xp0lWOkC",
        "outputId": "8baedd8b-10c7-412c-90a7-1017f3dd3f8c"
      },
      "outputs": [
        {
          "name": "stdout",
          "output_type": "stream",
          "text": [
            "tensor([[4., 4., 4., 4., 4., 4.],\n",
            "        [4., 4., 4., 4., 4., 4.],\n",
            "        [4., 4., 4., 4., 4., 4.],\n",
            "        [4., 4., 4., 4., 4., 4.],\n",
            "        [4., 4., 4., 4., 4., 4.]])\n",
            "tensor([[4., 4., 4., 4., 4., 4.],\n",
            "        [4., 4., 4., 4., 4., 4.],\n",
            "        [4., 4., 4., 4., 4., 4.],\n",
            "        [4., 4., 4., 4., 4., 4.],\n",
            "        [4., 4., 4., 4., 4., 4.]])\n",
            "tensor([[4., 4., 4., 4., 4., 4.],\n",
            "        [4., 4., 4., 4., 4., 4.],\n",
            "        [4., 4., 4., 4., 4., 4.],\n",
            "        [4., 4., 4., 4., 4., 4.],\n",
            "        [4., 4., 4., 4., 4., 4.]])\n",
            "tensor([[4., 4., 4., 4., 4., 4.],\n",
            "        [4., 4., 4., 4., 4., 4.],\n",
            "        [4., 4., 4., 4., 4., 4.],\n",
            "        [4., 4., 4., 4., 4., 4.],\n",
            "        [4., 4., 4., 4., 4., 4.]])\n"
          ]
        }
      ],
      "source": [
        "# Давайте теперь пооптимизируем: возьмите функцию y = x**w1 - 2 * x**2 + 5\n",
        "# Посчитайте \n",
        "for w1 in (1, 2, 3, 4):\n",
        "  y = x**w1 - 2 * x**2 + 5\n",
        "  print(y)\n"
      ]
    }
  ],
  "metadata": {
    "colab": {
      "collapsed_sections": [],
      "include_colab_link": true,
      "name": "HW_01.ipynb",
      "provenance": []
    },
    "kernelspec": {
      "display_name": "Python 3",
      "language": "python",
      "name": "python3"
    },
    "language_info": {
      "codemirror_mode": {
        "name": "ipython",
        "version": 3
      },
      "file_extension": ".py",
      "mimetype": "text/x-python",
      "name": "python",
      "nbconvert_exporter": "python",
      "pygments_lexer": "ipython3",
      "version": "3.7.4"
    }
  },
  "nbformat": 4,
  "nbformat_minor": 0
}
